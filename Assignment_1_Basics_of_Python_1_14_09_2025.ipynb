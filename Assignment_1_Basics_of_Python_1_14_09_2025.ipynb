{
  "nbformat": 4,
  "nbformat_minor": 0,
  "metadata": {
    "colab": {
      "provenance": []
    },
    "kernelspec": {
      "name": "python3",
      "display_name": "Python 3"
    },
    "language_info": {
      "name": "python"
    }
  },
  "cells": [
    {
      "cell_type": "markdown",
      "source": [
        "# Assignment-1 : Basics of Python"
      ],
      "metadata": {
        "id": "XZuyeoo8XMNF"
      }
    },
    {
      "cell_type": "markdown",
      "source": [
        "## Exercise 1: Prime Numbers\n",
        "Write a Python program that checks whether a given number is prime or not. A prime number is a natural number greater than 1 that has no positive divisors other than 1 and itself.\n"
      ],
      "metadata": {
        "id": "8EHaHmpAXHcC"
      }
    },
    {
      "cell_type": "code",
      "source": [
        "import random\n",
        "\n",
        "# Prime numbers are divisible by 1 or itself\n",
        "\n",
        "def is_prime(num):\n",
        "\n",
        "  # Checks for a given number is prime\n",
        "\n",
        "  if num <= 1:\n",
        "    return False\n",
        "  for i in range(2, int(num**0.5) + 1):\n",
        "    if num % i == 0:\n",
        "      return False\n",
        "  return True\n",
        "\n",
        "# Get a number from user\n",
        "\n",
        "num_to_check = int(input(\"Enter a number to check if it's prime: \"))\n",
        "\n",
        "# Check and print the result\n",
        "\n",
        "if is_prime(num_to_check):\n",
        "  print(f\"{num_to_check} is a prime number.\")\n",
        "else:\n",
        "  print(f\"{num_to_check} is not a prime number.\")"
      ],
      "metadata": {
        "id": "Cn722FWbixug",
        "colab": {
          "base_uri": "https://localhost:8080/"
        },
        "outputId": "838a3e87-4d82-4f39-d10c-b0668d5aab0c"
      },
      "execution_count": 10,
      "outputs": [
        {
          "output_type": "stream",
          "name": "stdout",
          "text": [
            "Enter a number to check if it's prime: 31\n",
            "31 is a prime number.\n"
          ]
        }
      ]
    },
    {
      "cell_type": "markdown",
      "source": [
        "## Exercise 2: Product of Random Numbers\n",
        "Develop a Python program that generates two random numbers and asks the user to enter the product of these numbers. The program should then check if the user's answer is correct and display an appropriate message.\n"
      ],
      "metadata": {
        "id": "W2tkN4MgXaGF"
      }
    },
    {
      "cell_type": "code",
      "metadata": {
        "colab": {
          "base_uri": "https://localhost:8080/"
        },
        "id": "249c0c77",
        "outputId": "d4c31faf-6d22-49c2-9228-cc03dc716e39"
      },
      "source": [
        "import random\n",
        "\n",
        "# To generate two random numbers between 1 and 100\n",
        "\n",
        "num1 = random.randint(1, 100)\n",
        "num2 = random.randint(1, 100)\n",
        "\n",
        "# Calculate the correct product\n",
        "\n",
        "product = num1 * num2\n",
        "\n",
        "# Ask the user for the product\n",
        "\n",
        "user_answer = int(input(f\"What is the product of {num1} and {num2}? \"))\n",
        "\n",
        "# To check if the user's answer is correct\n",
        "\n",
        "if user_answer == product:\n",
        "  print(\"Correct! Well done!\")\n",
        "else:\n",
        "  print(f\"Incorrect. The correct answer is {product}.\")"
      ],
      "execution_count": null,
      "outputs": [
        {
          "output_type": "stream",
          "name": "stdout",
          "text": [
            "What is the product of 34 and 74? 8900\n",
            "Incorrect. The correct answer is 2516.\n"
          ]
        }
      ]
    },
    {
      "cell_type": "markdown",
      "source": [
        "## Exercise 3: Squares of Even/Odd Numbers\n",
        "Create a Python script that prints the squares of all even or odd numbers within the range of 100 to 200. Choose either even or odd numbers and document your choice in the code.\n"
      ],
      "metadata": {
        "id": "xKzP8oN4Xi68"
      }
    },
    {
      "cell_type": "code",
      "source": [
        "import random\n",
        "\n",
        "# Generate a random integer between 100 and 200\n",
        "\n",
        "random_number = random.randint(100, 200)\n",
        "\n",
        "print(\"Printing the squares of Even numbers between 100 and 200:\")\n",
        "\n",
        "# Check if the number is even\n",
        "\n",
        "for random_number in range(100, 201):\n",
        "  if random_number % 2 == 0: # to check if number is even\n",
        "\n",
        "    square = random_number ** 2\n",
        "    print(f\"The square of {random_number} is {square}\")"
      ],
      "metadata": {
        "colab": {
          "base_uri": "https://localhost:8080/"
        },
        "id": "OSD9cpj2jCEl",
        "outputId": "37196ff8-8341-4070-c4b5-f2117099e0b9"
      },
      "execution_count": null,
      "outputs": [
        {
          "output_type": "stream",
          "name": "stdout",
          "text": [
            "Printing the squares of Even numbers between 100 and 200:\n",
            "The square of 100 is 10000\n",
            "The square of 102 is 10404\n",
            "The square of 104 is 10816\n",
            "The square of 106 is 11236\n",
            "The square of 108 is 11664\n",
            "The square of 110 is 12100\n",
            "The square of 112 is 12544\n",
            "The square of 114 is 12996\n",
            "The square of 116 is 13456\n",
            "The square of 118 is 13924\n",
            "The square of 120 is 14400\n",
            "The square of 122 is 14884\n",
            "The square of 124 is 15376\n",
            "The square of 126 is 15876\n",
            "The square of 128 is 16384\n",
            "The square of 130 is 16900\n",
            "The square of 132 is 17424\n",
            "The square of 134 is 17956\n",
            "The square of 136 is 18496\n",
            "The square of 138 is 19044\n",
            "The square of 140 is 19600\n",
            "The square of 142 is 20164\n",
            "The square of 144 is 20736\n",
            "The square of 146 is 21316\n",
            "The square of 148 is 21904\n",
            "The square of 150 is 22500\n",
            "The square of 152 is 23104\n",
            "The square of 154 is 23716\n",
            "The square of 156 is 24336\n",
            "The square of 158 is 24964\n",
            "The square of 160 is 25600\n",
            "The square of 162 is 26244\n",
            "The square of 164 is 26896\n",
            "The square of 166 is 27556\n",
            "The square of 168 is 28224\n",
            "The square of 170 is 28900\n",
            "The square of 172 is 29584\n",
            "The square of 174 is 30276\n",
            "The square of 176 is 30976\n",
            "The square of 178 is 31684\n",
            "The square of 180 is 32400\n",
            "The square of 182 is 33124\n",
            "The square of 184 is 33856\n",
            "The square of 186 is 34596\n",
            "The square of 188 is 35344\n",
            "The square of 190 is 36100\n",
            "The square of 192 is 36864\n",
            "The square of 194 is 37636\n",
            "The square of 196 is 38416\n",
            "The square of 198 is 39204\n",
            "The square of 200 is 40000\n"
          ]
        }
      ]
    },
    {
      "cell_type": "code",
      "source": [
        "import random\n",
        "\n",
        "# Generate a random integer between 100 and 200\n",
        "\n",
        "random_number = random.randint(100, 200)\n",
        "\n",
        "print(\"Printing the squares of Odd numbers between 100 and 200:\")\n",
        "\n",
        "# Check if the number is Odd\n",
        "\n",
        "for random_number in range(100, 200):\n",
        "\n",
        "   if random_number % 2 != 0: # to check if number is odd\n",
        "    square = random_number ** 2\n",
        "    print(f\"The square of {random_number} is {square}\")"
      ],
      "metadata": {
        "colab": {
          "base_uri": "https://localhost:8080/"
        },
        "id": "V--GoHh2mnZU",
        "outputId": "993c4931-537a-4b91-8959-87e8cb0633cd"
      },
      "execution_count": null,
      "outputs": [
        {
          "output_type": "stream",
          "name": "stdout",
          "text": [
            "Printing the squares of Odd numbers between 100 and 200:\n",
            "The square of 101 is 10201\n",
            "The square of 103 is 10609\n",
            "The square of 105 is 11025\n",
            "The square of 107 is 11449\n",
            "The square of 109 is 11881\n",
            "The square of 111 is 12321\n",
            "The square of 113 is 12769\n",
            "The square of 115 is 13225\n",
            "The square of 117 is 13689\n",
            "The square of 119 is 14161\n",
            "The square of 121 is 14641\n",
            "The square of 123 is 15129\n",
            "The square of 125 is 15625\n",
            "The square of 127 is 16129\n",
            "The square of 129 is 16641\n",
            "The square of 131 is 17161\n",
            "The square of 133 is 17689\n",
            "The square of 135 is 18225\n",
            "The square of 137 is 18769\n",
            "The square of 139 is 19321\n",
            "The square of 141 is 19881\n",
            "The square of 143 is 20449\n",
            "The square of 145 is 21025\n",
            "The square of 147 is 21609\n",
            "The square of 149 is 22201\n",
            "The square of 151 is 22801\n",
            "The square of 153 is 23409\n",
            "The square of 155 is 24025\n",
            "The square of 157 is 24649\n",
            "The square of 159 is 25281\n",
            "The square of 161 is 25921\n",
            "The square of 163 is 26569\n",
            "The square of 165 is 27225\n",
            "The square of 167 is 27889\n",
            "The square of 169 is 28561\n",
            "The square of 171 is 29241\n",
            "The square of 173 is 29929\n",
            "The square of 175 is 30625\n",
            "The square of 177 is 31329\n",
            "The square of 179 is 32041\n",
            "The square of 181 is 32761\n",
            "The square of 183 is 33489\n",
            "The square of 185 is 34225\n",
            "The square of 187 is 34969\n",
            "The square of 189 is 35721\n",
            "The square of 191 is 36481\n",
            "The square of 193 is 37249\n",
            "The square of 195 is 38025\n",
            "The square of 197 is 38809\n",
            "The square of 199 is 39601\n"
          ]
        }
      ]
    },
    {
      "cell_type": "markdown",
      "source": [
        "## Exercise 4:\n",
        "✅ **Problem Statement (Question): Hospital Billing System**\n",
        "\n",
        "A hospital charges its patients based on the following:\n",
        "\n",
        "*   Room charges per day: ₹2,000\n",
        "*   Doctor consultation fee (flat): ₹1,500\n",
        "*   Lab test charges: Based on the number of tests taken. Each test costs ₹300\n",
        "*   Medicine charges: Total cost of medicines provided\n",
        "*   Discount: If the total bill (before discount) exceeds ₹10,000, a 10% discount is applied\n",
        "\n",
        "Write a Python program to calculate the final bill for a patient who:\n",
        "\n",
        "*   Stayed for 4 days\n",
        "*   Had 3 lab tests\n",
        "*   Had medicine charges of ₹2,400\n"
      ],
      "metadata": {
        "id": "Ufpu6uHuXpsN"
      }
    },
    {
      "cell_type": "code",
      "metadata": {
        "colab": {
          "base_uri": "https://localhost:8080/"
        },
        "id": "b9086a43",
        "outputId": "e307745b-3f37-41f6-accb-28808b5d3485"
      },
      "source": [
        "# Patient details\n",
        "\n",
        "days_stayed = 4\n",
        "num_lab_tests = 3\n",
        "medicine_charges = 2400\n",
        "\n",
        "# Charges\n",
        "\n",
        "room_charge_per_day = 2000\n",
        "doctor_consultation_fee = 1500\n",
        "lab_test_cost_per_test = 300\n",
        "discount_threshold = 10000\n",
        "discount_rate = 0.10\n",
        "\n",
        "# calculat total bill before dicount\n",
        "\n",
        "room_charges = days_stayed * room_charge_per_day\n",
        "lab_test_charges = num_lab_tests * lab_test_cost_per_test\n",
        "total_bill_before_discount = room_charges + doctor_consultation_fee + lab_test_charges + medicine_charges\n",
        "\n",
        "# Calculate discount applied\n",
        "\n",
        "discount_amount = 0\n",
        "if total_bill_before_discount > discount_threshold:\n",
        "  discount_amount = total_bill_before_discount * discount_rate\n",
        "\n",
        "# Calculate final bill\n",
        "final_bill = total_bill_before_discount - discount_amount\n",
        "\n",
        "# Print the bill details\n",
        "print(\"Hospital Bill Details:\")\n",
        "print(f\"Room charges: ₹{room_charges}\")\n",
        "print(f\"Doctor consultation fee: ₹{doctor_consultation_fee}\")\n",
        "print(f\"Lab test charges: ₹{lab_test_charges}\")\n",
        "print(f\"Medicine charges: ₹{medicine_charges}\")\n",
        "print(f\"Total bill before discount: ₹{total_bill_before_discount}\")\n",
        "print(f\"Discount applied: ₹{discount_amount}\")\n",
        "print(f\"Final bill: ₹{final_bill}\")"
      ],
      "execution_count": null,
      "outputs": [
        {
          "output_type": "stream",
          "name": "stdout",
          "text": [
            "Hospital Bill Details:\n",
            "Room charges: ₹8000\n",
            "Doctor consultation fee: ₹1500\n",
            "Lab test charges: ₹900\n",
            "Medicine charges: ₹2400\n",
            "Total bill before discount: ₹12800\n",
            "Discount applied: ₹1280.0\n",
            "Final bill: ₹11520.0\n"
          ]
        }
      ]
    },
    {
      "cell_type": "code",
      "source": [],
      "metadata": {
        "id": "PK_ArAwiXftP"
      },
      "execution_count": null,
      "outputs": []
    }
  ]
}